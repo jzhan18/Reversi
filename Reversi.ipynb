{
 "cells": [
  {
   "cell_type": "markdown",
   "metadata": {},
   "source": [
    "# Reversi\n",
    "There are $n$x$n$ identical game pieces called disks (often spelled \"discs\"), which are light on one side and dark on the other. Players take turns placing disks on the board with their assigned color facing up. During a play, any disks of the opponent's color that are in a straight line and bounded by the disk just placed and another disk of the current player's color are turned over to the current player's color. The objective of the game is to have the majority of disks turned to display your color when the last playable empty square is filled or when a player cannot make any move."
   ]
  },
  {
   "cell_type": "markdown",
   "metadata": {},
   "source": [
    "### State Representation\n",
    "\n",
    "Use an array of length $n^2$ to represent the board."
   ]
  },
  {
   "cell_type": "code",
   "execution_count": 3,
   "metadata": {},
   "outputs": [],
   "source": [
    "# X represents the dark player\n",
    "# O represents the white player\n",
    "# - represents an empty space\n",
    "\n",
    "# draw the state\n",
    "def draw(state):\n",
    "    for i in range(0, n**2, n):\n",
    "        print(state[i:i+n])"
   ]
  },
  {
   "cell_type": "code",
   "execution_count": 4,
   "metadata": {},
   "outputs": [],
   "source": [
    "# A player must place a piece in an empty space so that \n",
    "# there exists at least one straight (horizontal, vertical, or diagonal) occupied line \n",
    "# between the new piece and another piece in the same color, \n",
    "# with one or more contiguous pieces in the other color between them.\n",
    "\n",
    "# get actions of state\n",
    "# valid actions depend on the current player\n",
    "# game is end when no actions can be taken\n",
    "def actions_in(state, player):\n",
    "    actions = list()\n",
    "    added = set()\n",
    "    opponent = 'X' if player == 'O' else 'O'\n",
    "    \n",
    "    for i in range(n**2):\n",
    "        if state[i] == player:\n",
    "            row = i // n\n",
    "            column = i % n\n",
    "            \n",
    "            # row\n",
    "            for c in range(i, row*n+n):\n",
    "                # get the sequence between the old and new piece (exclude new piece)\n",
    "                temp = state[i : c]\n",
    "                if state[c] == '-' and len(temp) > 0 and '-' not in temp and temp[-1] == opponent: \n",
    "                    if c not in added:\n",
    "                        added.add(c)\n",
    "                        actions.append(c)\n",
    "                \n",
    "            for c in range(i, row*n-1, -1):\n",
    "                # get the sequence between the old and new piece (exclude new piece)\n",
    "                temp = state[c+1 : i+1]\n",
    "                if state[c] == '-' and len(temp) > 0 and '-' not in temp and temp[0] == opponent:\n",
    "                    if c not in added:\n",
    "                        added.add(c)\n",
    "                        actions.append(c)\n",
    "                \n",
    "            # column\n",
    "            for r in range(i, column+n**2-n+1, n):\n",
    "                # get the sequence between the old and new piece (exclude new piece) \n",
    "                temp = state[i : r : n]\n",
    "                if state[r] == '-' and len(temp) > 0 and '-' not in temp and temp[-1] == opponent:\n",
    "                    if r not in added:\n",
    "                        added.add(r)\n",
    "                        actions.append(r)\n",
    "                \n",
    "            for r in range(i, column-1, -n):\n",
    "                # get the sequence between the old and new piece (exclude new piece) \n",
    "                temp = state[r+n : i+1 : n]\n",
    "                if state[r] == '-' and len(temp) > 0 and '-' not in temp and temp[0] == opponent:\n",
    "                    if r not in added:\n",
    "                        added.add(r)\n",
    "                        actions.append(r)\n",
    "                \n",
    "            # diagonal\n",
    "            diagonal_elements = min(n-1-row, n-1-column)\n",
    "            for d1 in range(i, i+diagonal_elements*(n+1)+1, n+1):\n",
    "                # get the sequence between the old and new piece (exclude new piece) \n",
    "                temp = state[i : d1 : n+1]\n",
    "                if state[d1] == '-' and len(temp) > 0 and '-' not in temp and temp[-1] == opponent:\n",
    "                    if d1 not in added:\n",
    "                        added.add(d1)\n",
    "                        actions.append(d1)    \n",
    "            \n",
    "            diagonal_elements = min(row, column)\n",
    "            for d1 in range(i, i-diagonal_elements*(n+1)-1, -n-1):\n",
    "                # get the sequence between the old and new piece (exclude new piece) \n",
    "                temp = state[d1+n+1 : i+1 : n+1]\n",
    "                if state[d1] == '-' and len(temp) > 0 and '-' not in temp and temp[0] == opponent:\n",
    "                    if d1 not in added:\n",
    "                        added.add(d1)\n",
    "                        actions.append(d1) \n",
    "            \n",
    "            diagonal_elements = min(n-1-row, column)\n",
    "            for d2 in range(i, i+diagonal_elements*(n-1)+1, n-1):\n",
    "                # get the sequence between the old and new piece (exclude new piece) \n",
    "                temp = state[i : d2 : n-1]\n",
    "                if state[d2] == '-' and len(temp) > 0 and '-' not in temp and temp[-1] == opponent:\n",
    "                    if d2 not in added:\n",
    "                        added.add(d2)\n",
    "                        actions.append(d2)     \n",
    "            \n",
    "            diagonal_elements = min(row, n-1-column)\n",
    "            for d2 in range(i, i-diagonal_elements*(n-1), -n+1):\n",
    "                # get the sequence between the old and new piece (exclude new piece) \n",
    "                temp = state[d2+n-1 : i+1 : n-1]\n",
    "                if state[d2] == '-' and len(temp) > 0 and '-' not in temp and temp[0] == opponent:\n",
    "                    if d2 not in added:\n",
    "                        added.add(d2)\n",
    "                        actions.append(d2)  \n",
    "        \n",
    "    return actions"
   ]
  },
  {
   "cell_type": "code",
   "execution_count": 5,
   "metadata": {},
   "outputs": [],
   "source": [
    "# get the successor of player\n",
    "def successor(state, action, player):\n",
    "    temp = state.copy()\n",
    "    temp[action] = player\n",
    "    opponent = 'X' if player == 'O' else 'O'\n",
    "    \n",
    "    # calcute the row and column of action\n",
    "    row = action // n\n",
    "    column = action % n\n",
    "    \n",
    "    # store pieces that need to be flipped\n",
    "    changes = list()\n",
    "    \n",
    "    # flip pieces\n",
    "    # change row\n",
    "    # initialize pieces \n",
    "    pieces = list()\n",
    "    for i in range(action+1, row*n + n):\n",
    "        # if the piece is opponent, store it\n",
    "        if temp[i] == opponent:\n",
    "            # store pieces that may be flipped\n",
    "            pieces.append(i)\n",
    "            \n",
    "        # reach the end point\n",
    "        # if the piece is player, then flip pieces\n",
    "        elif temp[i] == player:\n",
    "            if len(pieces) > 0:\n",
    "                changes += pieces\n",
    "                pieces = list()\n",
    "                break\n",
    "                \n",
    "        # if the piece is empty, nothing needs to be flipped\n",
    "        elif temp[i] == '-':\n",
    "            break\n",
    "            \n",
    "    pieces = list()       \n",
    "    for i in range(action-1, row*n-1, -1):\n",
    "        if temp[i] == opponent:\n",
    "            pieces.append(i)\n",
    "        elif temp[i] == player:\n",
    "            if len(pieces) > 0:\n",
    "                changes += pieces\n",
    "                pieces = list()\n",
    "                break\n",
    "        elif temp[i] == '-':\n",
    "            break\n",
    "    \n",
    "    # change column\n",
    "    pieces = list()\n",
    "    for i in range(action+n, column+n**2-n+1, n):\n",
    "        if temp[i] == opponent:\n",
    "            pieces.append(i)\n",
    "        if temp[i] == player:\n",
    "            if len(pieces) > 0:\n",
    "                changes += pieces\n",
    "                pieces = list()\n",
    "                break\n",
    "        if temp[i] == '-':\n",
    "            pieces = list()\n",
    "            break\n",
    "            \n",
    "    pieces = list()\n",
    "    for i in range(action-n, column-1, -n):\n",
    "        if temp[i] == opponent:\n",
    "            pieces.append(i)\n",
    "        if temp[i] == player:\n",
    "            if len(pieces) > 0:\n",
    "                changes += pieces\n",
    "                pieces = list()\n",
    "                break\n",
    "        if temp[i] == '-':\n",
    "            pieces = list()\n",
    "            break\n",
    "    \n",
    "    # change diagonal\n",
    "    pieces = list()\n",
    "    diagonal_elements = min(n-1-row, n-1-column)\n",
    "    for i in range(action+n+1, action+diagonal_elements*(n+1)+1, n+1):\n",
    "        if temp[i] == opponent:\n",
    "            pieces.append(i)\n",
    "        if temp[i] == player:\n",
    "            if len(pieces) > 0:\n",
    "                changes += pieces\n",
    "                pieces = list()\n",
    "                break\n",
    "        if temp[i] == '-':\n",
    "            pieces = list()\n",
    "            break\n",
    "            \n",
    "    pieces = list()\n",
    "    diagonal_elements = min(row, column)\n",
    "    for i in range(action-n-1, action-diagonal_elements*(n+1)-1, -n-1):\n",
    "        if temp[i] == opponent:\n",
    "            pieces.append(i)\n",
    "        if temp[i] == player:\n",
    "            if len(pieces) > 0:\n",
    "                changes += pieces\n",
    "                pieces = list()\n",
    "                break\n",
    "        if temp[i] == '-':\n",
    "            pieces = list()\n",
    "            break\n",
    "    \n",
    "    pieces = list()\n",
    "    diagonal_elements = min(n-1-row, column)\n",
    "    for i in range(action+n-1, action+diagonal_elements*(n-1)+1, n-1):\n",
    "        if temp[i] == opponent:\n",
    "            pieces.append(i)\n",
    "        if temp[i] == player:\n",
    "            if len(pieces) > 0:\n",
    "                changes += pieces\n",
    "                pieces = list()\n",
    "                break\n",
    "        if temp[i] == '-':\n",
    "            pieces = list()\n",
    "            break\n",
    "            \n",
    "    pieces = list()\n",
    "    diagonal_elements = min(row, n-1-column)\n",
    "    for i in range(action-n+1, action-diagonal_elements*(n-1), -n+1):\n",
    "        if temp[i] == opponent:\n",
    "            pieces.append(i)\n",
    "        if temp[i] == player:\n",
    "            if len(pieces) > 0:\n",
    "                changes += pieces\n",
    "                pieces = list()\n",
    "                break\n",
    "        if temp[i] == '-':\n",
    "            pieces = list()\n",
    "            break\n",
    "    \n",
    "    # flip pieces\n",
    "    for change in changes:\n",
    "        temp[change] = player\n",
    "        \n",
    "    return temp"
   ]
  },
  {
   "cell_type": "markdown",
   "metadata": {},
   "source": [
    "### Evaluation"
   ]
  },
  {
   "cell_type": "code",
   "execution_count": 6,
   "metadata": {},
   "outputs": [],
   "source": [
    "# evaluate the current state\n",
    "# evaluation functions\n",
    "# each piece is worth 1 pt\n",
    "# score = (X_score - O_score)/n^2\n",
    "def evaluateA(state):\n",
    "    score = 0\n",
    "    for p in state:\n",
    "        if p == 'X':\n",
    "            score += 1\n",
    "        elif p == 'O':\n",
    "            score -= 1\n",
    "    return score / n**2\n",
    "\n",
    "# It's impossible to flip the pieces at corners, \n",
    "# so a player who occupy more corners is more likely to win.\n",
    "# Pieces on edges are less likely to be flipped,\n",
    "# so a player may also want to occupy the edges.\n",
    "# Each piece around the center is worth 1 pt.\n",
    "# Each piece at a corner is worth 2 pts.\n",
    "# Each piece on an edge is worth 1.5 pt.\n",
    "def evaluateB(state):\n",
    "    score = 0\n",
    "    \n",
    "    # total = corner + edge + center\n",
    "    total = (4 * 2) + (4 * (n - 2) * 1.5) + ((n-2) ** 2)\n",
    "    \n",
    "    for i in range(len(state)):\n",
    "        row = i // n\n",
    "        column = i % n\n",
    "        \n",
    "        # weight of each piece\n",
    "        weight = 2 if row == 0 and column == 0 or \\\n",
    "        row == 0 and column == n-1 or \\\n",
    "        row == n-1 and column == 0 or \\\n",
    "        row == n-1 and column == n-1 else \\\n",
    "        1.5 if (row == 0 or row == n-1) and column != 0 and column != n-1 or \\\n",
    "        (column == 0 or column == n-1) and row != 0 and row != n-1 else \\\n",
    "        1\n",
    "        \n",
    "        if state[i] == 'X':\n",
    "            score += weight\n",
    "        elif state[i] == 'O':\n",
    "            score -= weight\n",
    "\n",
    "    return score / total\n",
    "\n",
    "# base_score = 1 if x > y,\n",
    "#              -1 if x < y\n",
    "# edge_score = differences in edges / (n-2)\n",
    "# corner_score = differences in corners / 4 \n",
    "# Since the optimal goal is to have the most pieces,\n",
    "# the weight of base score is the highest, then corner score and edge score. \n",
    "# score = base*0.5 + corner*0.3 + edge*0.2\n",
    "def evaluateC(state):\n",
    "    score = 0\n",
    "    corner = 0\n",
    "    edge = 0\n",
    "    \n",
    "    for i in range(len(state)):\n",
    "        row = i // n\n",
    "        column = i % n\n",
    "        \n",
    "        # check corners\n",
    "        if row == 0 and column == 0 or \\\n",
    "        row == 0 and column == n-1 or \\\n",
    "        row == n-1 and column == 0 or \\\n",
    "        row == n-1 and column == n-1:\n",
    "            if state[i] == 'X':\n",
    "                corner += 1\n",
    "            elif state[i] == 'O':\n",
    "                corner -= 1\n",
    "        \n",
    "        # check edges\n",
    "        if (row == 0 or row == n-1) and column != 0 and column != n-1 or \\\n",
    "        (column == 0 or column == n-1) and row != 0 and row != n-1:\n",
    "            if state[i] == 'X':\n",
    "                edge += 1\n",
    "            elif state[i] == 'O':\n",
    "                edge -= 1\n",
    "                \n",
    "        if state[i] == 'X':\n",
    "            score += 1\n",
    "    \n",
    "        elif state[i] == 'O':\n",
    "            score -= 1\n",
    "        \n",
    "    if score > 0:\n",
    "        base = 1\n",
    "    elif score == 0:\n",
    "        base = 0\n",
    "    else:\n",
    "        base = -1\n",
    "\n",
    "    return base*0.5 + corner/4*0.3 + edge/(n-2)*0.2"
   ]
  },
  {
   "cell_type": "markdown",
   "metadata": {},
   "source": [
    "### Utility"
   ]
  },
  {
   "cell_type": "code",
   "execution_count": 7,
   "metadata": {},
   "outputs": [],
   "source": [
    "# return the utility of the state\n",
    "# game ends when all spaces are filled or when a player cannot make any move\n",
    "# 1: X wins\n",
    "# -1: O wins\n",
    "def utility(state, player):\n",
    "    if len(actions_in(state, player)) == 0:\n",
    "        score = 0\n",
    "        for p in state:\n",
    "            if p == 'X':\n",
    "                score += 1\n",
    "            elif p == 'O':\n",
    "                score -= 1\n",
    "        if score > 0:\n",
    "            return 1\n",
    "        elif score == 0:\n",
    "            return 0\n",
    "        elif score < 0:\n",
    "            return -1\n",
    "        \n",
    "    return None"
   ]
  },
  {
   "cell_type": "markdown",
   "metadata": {},
   "source": [
    "### Search"
   ]
  },
  {
   "cell_type": "code",
   "execution_count": 8,
   "metadata": {},
   "outputs": [],
   "source": [
    "from math import inf\n",
    "\n",
    "# minmax search\n",
    "def max_value(state, alpha, beta, depth, limit, evaluate):\n",
    "    player = 'X'\n",
    "    opponent = 'O'\n",
    "    u = utility(state, player)\n",
    "    if depth == limit or u is not None:\n",
    "        if u is not None:\n",
    "            return (u, None)\n",
    "        else:\n",
    "            return (evaluate(state), None)\n",
    "    else:\n",
    "        v = -inf\n",
    "        actions = actions_in(state, player)\n",
    "        for action in actions:\n",
    "            temp = min_value(successor(state, action, player), alpha, beta, depth+1, limit, evaluate)[0]\n",
    "            if temp > v:\n",
    "                v = temp\n",
    "                a = action\n",
    "            if v > alpha:\n",
    "                alpha = v\n",
    "            if alpha >= beta:\n",
    "                break\n",
    "     \n",
    "        return v, a\n",
    "    \n",
    "def min_value(state, alpha, beta, depth, limit, evaluate):\n",
    "    player = 'O'\n",
    "    opponent = 'X'\n",
    "    u = utility(state, player)\n",
    "    if depth == limit or u is not None:\n",
    "        if u is not None:\n",
    "            return (u, None)\n",
    "        else:\n",
    "            return (evaluate(state), None)\n",
    "    else:\n",
    "        v = inf\n",
    "        actions = actions_in(state, player)\n",
    "        for action in actions:\n",
    "            temp = max_value(successor(state, action, player), alpha, beta, depth+1, limit, evaluate)[0]\n",
    "            if temp < v:\n",
    "                v = temp\n",
    "                a = action\n",
    "            if v < beta:\n",
    "                beta = v\n",
    "            if alpha >= beta:\n",
    "                break\n",
    "                \n",
    "        return v, a"
   ]
  },
  {
   "cell_type": "markdown",
   "metadata": {},
   "source": [
    "### Experiments"
   ]
  },
  {
   "cell_type": "code",
   "execution_count": 15,
   "metadata": {},
   "outputs": [],
   "source": [
    "from random import choice\n",
    "import matplotlib.pyplot as plt\n",
    "n = 8 # board size\n",
    "\n",
    "# returns a standard reversi\n",
    "def standard():\n",
    "    state = ['-'] * n**2\n",
    "    state[27] = 'O'\n",
    "    state[28] = 'X'\n",
    "    state[35] = 'X'\n",
    "    state[36] = 'O'\n",
    "    return state\n",
    "\n",
    "# Test an evaluation function against a random player or another evaluation function.\n",
    "# cap: max searching depth\n",
    "# ai: evaluation function\n",
    "# opponent: evaluation function for the opponent\n",
    "def experiment(cap, ai, opponent=None):\n",
    "    cap += 1\n",
    "    records = list()\n",
    "    depths = list()\n",
    "    playernames = {evaluateA: \"AI A\",\n",
    "                 evaluateB: \"AI B\",\n",
    "                 evaluateC: \"AI C\",\n",
    "                 None: \"a random player\"}\n",
    "    \n",
    "    if opponent is None:\n",
    "        for limit in range(1, cap):\n",
    "            record = [0, 0, 0] # This will store [ties, wins, losses]\n",
    "            depths.append(str(limit))\n",
    "\n",
    "            for game in range(100):\n",
    "                # standard reversi\n",
    "                state = standard()\n",
    "                \n",
    "                for turn in range(n**2):\n",
    "                    if turn % 2 == 0:\n",
    "                        value, action = max_value(state, alpha=-1, beta=+1, depth=0, limit=limit, evaluate=ai)\n",
    "                        if action is not None:\n",
    "                            state = successor(state, action, 'X')\n",
    "                        else:\n",
    "                            u = utility(state, 'X')\n",
    "                            if u is not None:\n",
    "                                record[u] += 1 # Some negative indexing shenanigans here\n",
    "                                break\n",
    "                    else:\n",
    "                        actions = actions_in(state, 'O')\n",
    "                        if len(actions) > 0:\n",
    "                            action = choice(actions)\n",
    "                            state = successor(state, action, 'O')\n",
    "                        else:\n",
    "                            u = utility(state, 'O')\n",
    "                            if u is not None:\n",
    "                                record[u] += 1 # Some negative indexing shenanigans here\n",
    "                                break\n",
    "                                \n",
    "            records.append(record)\n",
    "            print(\"{0} searching to depth {1} has a record of {2} against {3}\".format(playernames[ai], limit, record, playernames[opponent]))\n",
    "               \n",
    "    else:\n",
    "        for limit in range(1, cap):\n",
    "            record = [0, 0, 0] # This will store [ties, wins, losses]\n",
    "            depths.append(str(limit))\n",
    "            for game in range(100):\n",
    "                # generate a random state\n",
    "                state = standard()\n",
    "                actions = actions_in(state, 'X')\n",
    "                action = choice(actions)\n",
    "                state = successor(state, action, 'X')\n",
    "                actions = actions_in(state, 'O')\n",
    "                action = choice(actions)\n",
    "                state = successor(state, action, 'O')\n",
    "                \n",
    "                for turn in range(n**2):\n",
    "                    if turn % 2 == 0:\n",
    "                        value, action = max_value(state, alpha=-1, beta=+1, depth=0, limit=limit, evaluate=ai)\n",
    "                        if action is not None:\n",
    "                            state = successor(state, action, 'X')\n",
    "                        else:\n",
    "                            u = utility(state, 'X')\n",
    "                            if u is not None:\n",
    "                                record[u] += 1 # Some negative indexing shenanigans here\n",
    "                                break\n",
    "                    else:\n",
    "                        value, action = min_value(state, alpha=-1, beta=+1, depth=0, limit=limit, evaluate=opponent)\n",
    "                        if action is not None:\n",
    "                            state = successor(state, action, 'O')\n",
    "                        else:\n",
    "                            u = utility(state, 'O')\n",
    "                            if u is not None:\n",
    "                                record[u] += 1 # Some negative indexing shenanigans here\n",
    "                                break\n",
    "\n",
    "            records.append(record)\n",
    "            print(\"{0} searching to depth {1} has a record of {2} against {3}\".format(playernames[ai], limit, record, playernames[opponent]))\n",
    "\n",
    "    ties = list()\n",
    "    wins = list()\n",
    "    for r in records:\n",
    "        ties.append(r[0])\n",
    "        wins.append(r[1])\n",
    "\n",
    "    return depths, ties, wins\n",
    "\n",
    "# plot\n",
    "def plot(experiment):\n",
    "    depths, ties, wins = experiment\n",
    "    plt.bar(depths, wins, label=\"Wins\")\n",
    "    plt.bar(depths, ties, bottom=wins, label=\"Ties\")\n",
    "    plt.title(\"Player Performance Comparison\")\n",
    "    plt.xlabel(\"Searching Depth\")\n",
    "    plt.ylabel(\"Win Percentage\")\n",
    "    plt.legend()\n",
    "    plt.show()"
   ]
  },
  {
   "cell_type": "markdown",
   "metadata": {},
   "source": [
    "#### Performance of each evaluation funciton against a random player"
   ]
  },
  {
   "cell_type": "code",
   "execution_count": 16,
   "metadata": {},
   "outputs": [
    {
     "name": "stdout",
     "output_type": "stream",
     "text": [
      "AI A searching to depth 1 has a record of [3, 80, 17] against a random player\n",
      "AI A searching to depth 2 has a record of [3, 85, 12] against a random player\n",
      "AI A searching to depth 3 has a record of [1, 96, 3] against a random player\n"
     ]
    },
    {
     "data": {
      "image/png": "[encoded data removed]",
      "text/plain": [
       "<Figure size 432x288 with 1 Axes>"
      ]
     },
     "metadata": {
      "needs_background": "light"
     },
     "output_type": "display_data"
    },
    {
     "name": "stdout",
     "output_type": "stream",
     "text": [
      "AI B searching to depth 1 has a record of [2, 86, 12] against a random player\n",
      "AI B searching to depth 2 has a record of [1, 92, 7] against a random player\n",
      "AI B searching to depth 3 has a record of [1, 96, 3] against a random player\n"
     ]
    },
    {
     "data": {
      "image/png": "[encoded data removed]",
      "text/plain": [
       "<Figure size 432x288 with 1 Axes>"
      ]
     },
     "metadata": {
      "needs_background": "light"
     },
     "output_type": "display_data"
    },
    {
     "name": "stdout",
     "output_type": "stream",
     "text": [
      "AI C searching to depth 1 has a record of [2, 80, 18] against a random player\n",
      "AI C searching to depth 2 has a record of [0, 98, 2] against a random player\n",
      "AI C searching to depth 3 has a record of [0, 99, 1] against a random player\n"
     ]
    },
    {
     "data": {
      "image/png": "[encoded data removed]",
      "text/plain": [
       "<Figure size 432x288 with 1 Axes>"
      ]
     },
     "metadata": {
      "needs_background": "light"
     },
     "output_type": "display_data"
    }
   ],
   "source": [
    "exp1 = experiment(3, evaluateA)\n",
    "plot(exp1)\n",
    "exp2 = experiment(3, evaluateB)\n",
    "plot(exp2)\n",
    "exp3 = experiment(3, evaluateC)\n",
    "plot(exp3)"
   ]
  },
  {
   "cell_type": "code",
   "execution_count": 26,
   "metadata": {},
   "outputs": [
    {
     "name": "stdout",
     "output_type": "stream",
     "text": [
      "Average win percentage: \n",
      "A: 87.0\n",
      "B: 91.33333333333333\n",
      "C: 92.33333333333333\n"
     ]
    }
   ],
   "source": [
    "avgA = sum(exp1[2]) / len(exp1[2])\n",
    "avgB = sum(exp2[2]) / len(exp2[2])\n",
    "avgC = sum(exp3[2]) / len(exp3[2])\n",
    "print(\"Average win percentage: \\nA: {0}\\nB: {1}\\nC: {2}\".format(avgA, avgB, avgC))"
   ]
  },
  {
   "cell_type": "markdown",
   "metadata": {},
   "source": [
    "As the searching depth increases, the win percentage of each evaluation function against a random player increases. Both B and C perform better than A in matches against random players. "
   ]
  },
  {
   "cell_type": "markdown",
   "metadata": {},
   "source": [
    "#### Performance of each evaluation function against another evaluation function"
   ]
  },
  {
   "cell_type": "code",
   "execution_count": 17,
   "metadata": {},
   "outputs": [
    {
     "name": "stdout",
     "output_type": "stream",
     "text": [
      "AI B searching to depth 1 has a record of [8, 41, 51] against AI A\n",
      "AI B searching to depth 2 has a record of [14, 50, 36] against AI A\n",
      "AI B searching to depth 3 has a record of [0, 71, 29] against AI A\n"
     ]
    },
    {
     "data": {
      "image/png": "[encoded data removed]",
      "text/plain": [
       "<Figure size 432x288 with 1 Axes>"
      ]
     },
     "metadata": {
      "needs_background": "light"
     },
     "output_type": "display_data"
    },
    {
     "name": "stdout",
     "output_type": "stream",
     "text": [
      "AI C searching to depth 1 has a record of [0, 58, 42] against AI A\n",
      "AI C searching to depth 2 has a record of [0, 51, 49] against AI A\n",
      "AI C searching to depth 3 has a record of [0, 90, 10] against AI A\n"
     ]
    },
    {
     "data": {
      "image/png": "[encoded data removed]",
      "text/plain": [
       "<Figure size 432x288 with 1 Axes>"
      ]
     },
     "metadata": {
      "needs_background": "light"
     },
     "output_type": "display_data"
    },
    {
     "name": "stdout",
     "output_type": "stream",
     "text": [
      "AI C searching to depth 1 has a record of [0, 65, 35] against AI B\n",
      "AI C searching to depth 2 has a record of [0, 67, 33] against AI B\n",
      "AI C searching to depth 3 has a record of [0, 83, 17] against AI B\n"
     ]
    },
    {
     "data": {
      "image/png": "[encoded data removed]",
      "text/plain": [
       "<Figure size 432x288 with 1 Axes>"
      ]
     },
     "metadata": {
      "needs_background": "light"
     },
     "output_type": "display_data"
    }
   ],
   "source": [
    "exp4 = experiment(3, evaluateB, evaluateA) # B vs. A\n",
    "plot(exp4)\n",
    "exp5 = experiment(3, evaluateC, evaluateA) # C vs. A\n",
    "plot(exp5)\n",
    "exp6 = experiment(3, evaluateC, evaluateB) # C vs. B\n",
    "plot(exp6)"
   ]
  },
  {
   "cell_type": "markdown",
   "metadata": {},
   "source": [
    "When the searching depth is relatively low (1 or 2), B and C doesn't show great advantages over A. When the searching depth reaches 3, both B and C perform better than A. The third graph shows that C is better than B."
   ]
  },
  {
   "cell_type": "markdown",
   "metadata": {},
   "source": [
    "#### Conclusion"
   ]
  },
  {
   "cell_type": "markdown",
   "metadata": {},
   "source": [
    "Both evaluation B and evaluation C improve the permance of a play in a match against a random player, and evaluation C is the best evaluation function with respect to the improvement of win percentage."
   ]
  },
  {
   "cell_type": "code",
   "execution_count": null,
   "metadata": {},
   "outputs": [],
   "source": []
  }
 ],
 "metadata": {
  "kernelspec": {
   "display_name": "Python 3",
   "language": "python",
   "name": "python3"
  },
  "language_info": {
   "codemirror_mode": {
    "name": "ipython",
    "version": 3
   },
   "file_extension": ".py",
   "mimetype": "text/x-python",
   "name": "python",
   "nbconvert_exporter": "python",
   "pygments_lexer": "ipython3",
   "version": "3.8.8"
  }
 },
 "nbformat": 4,
 "nbformat_minor": 4
}
